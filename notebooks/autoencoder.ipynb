{
 "cells": [
  {
   "cell_type": "markdown",
   "metadata": {
    "cell_id": "b020a6e6-442b-43ff-b7b7-98d6fbbf00a1",
    "deepnote_cell_height": 142.8000030517578,
    "deepnote_cell_type": "markdown",
    "id": "7qRouQU6CBYp"
   },
   "source": [
    "# Image Denoising\n",
    "\n",
    "**Image denoising**, using an _autoencoder_, inspired into Francois Chollet [tutorial](https://blog.keras.io/building-autoencoders-in-keras.html)."
   ]
  },
  {
   "cell_type": "markdown",
   "metadata": {
    "cell_id": "00003-b5bab87a-67a1-4266-bc7d-1205249e4a5d",
    "deepnote_cell_height": 70,
    "deepnote_cell_type": "markdown",
    "id": "PlefLaHBDM-d"
   },
   "source": [
    "## Libraries"
   ]
  },
  {
   "cell_type": "code",
   "execution_count": 1,
   "metadata": {
    "cell_id": "00004-e6a0cab7-96bd-4895-900c-fea45318e25b",
    "deepnote_cell_height": 153,
    "deepnote_cell_type": "code",
    "deepnote_to_be_reexecuted": false,
    "execution_millis": 5874,
    "execution_start": 1657476402600,
    "id": "qck3CaT4RjqG",
    "source_hash": "f9b7d16"
   },
   "outputs": [],
   "source": [
    "import keras\n",
    "from keras import layers\n",
    "from keras.datasets import mnist\n",
    "import numpy as np\n",
    "import matplotlib.pyplot as plt"
   ]
  },
  {
   "cell_type": "markdown",
   "metadata": {
    "cell_id": "00005-521ee698-e9d7-45c9-84b4-4b792453ca44",
    "deepnote_cell_height": 167.1999969482422,
    "deepnote_cell_type": "markdown",
    "id": "8zuLUyPPDYbQ"
   },
   "source": [
    "## Data\n",
    "\n",
    "Here, we are using as our data the [MNIST](https://keras.io/api/datasets/mnist/) dataset.\n",
    "\n",
    "This is a dataset of 60 000 images of size 28 $\\times$ 28 grayscale images of hand written of 10 digits (0, 1, 2, 3, 4, 5, 6, 7, 8, 9), along with a test set of 10 000 images."
   ]
  },
  {
   "cell_type": "markdown",
   "metadata": {
    "cell_id": "00006-0c29c6b3-11f1-453b-968c-37421d133e92",
    "deepnote_cell_height": 218,
    "deepnote_cell_type": "markdown",
    "id": "Es7vRf4TEGxT"
   },
   "source": [
    "### Importing data\n",
    "\n",
    "This dataset is mostly used in _classification problems_, that is why they have the images and a second information, the labels of each image.\n",
    "\n",
    "But, as we are going to map digits images to clean them, we are not going to use the labels.\n",
    "\n",
    "In this way, our process is going to take the **noised images** and clear the same based into the **true images** as _targets_."
   ]
  },
  {
   "cell_type": "code",
   "execution_count": 2,
   "metadata": {
    "cell_id": "00007-cb17f64d-e386-46cd-991f-eb9442e8ea8d",
    "deepnote_cell_height": 131.39999389648438,
    "deepnote_cell_type": "code",
    "deepnote_to_be_reexecuted": false,
    "execution_millis": 1105,
    "execution_start": 1657476408479,
    "id": "nEuuZgQxRpjN",
    "source_hash": "218e6d05"
   },
   "outputs": [],
   "source": [
    "(x_train, _), (x_test, _) = mnist.load_data()"
   ]
  },
  {
   "cell_type": "code",
   "execution_count": 3,
   "metadata": {
    "cell_id": "00008-da942890-d5cb-44c7-9222-8ebfa6497c69",
    "colab": {
     "base_uri": "https://localhost:8080/",
     "height": 34
    },
    "deepnote_cell_height": 118,
    "deepnote_cell_type": "code",
    "deepnote_output_heights": [
     21
    ],
    "deepnote_to_be_reexecuted": false,
    "execution_millis": 683,
    "execution_start": 1657476408974,
    "id": "u_f1ANSIwvWQ",
    "outputId": "215724ee-4056-482d-c392-f4d21e5a3a92",
    "source_hash": "c338d4d9"
   },
   "outputs": [
    {
     "data": {
      "text/plain": [
       "((60000, 28, 28), (10000, 28, 28))"
      ]
     },
     "execution_count": 3,
     "metadata": {},
     "output_type": "execute_result"
    }
   ],
   "source": [
    "x_train.shape, x_test.shape"
   ]
  },
  {
   "cell_type": "code",
   "execution_count": 4,
   "metadata": {
    "cell_id": "00009-6c776823-840f-430d-abad-0f649d0a68a5",
    "deepnote_cell_height": 81,
    "deepnote_cell_type": "code",
    "deepnote_to_be_reexecuted": false,
    "execution_millis": 2,
    "execution_start": 1657476408987,
    "id": "lm5aObAyJ9KC",
    "source_hash": "70acd96e"
   },
   "outputs": [],
   "source": [
    "dimension = x_train.shape[1]"
   ]
  },
  {
   "cell_type": "markdown",
   "metadata": {
    "cell_id": "00010-343a28e6-d578-4c9b-a4c6-3992ba262772",
    "deepnote_cell_height": 62,
    "deepnote_cell_type": "markdown",
    "id": "7iwNnFCcF0Ii"
   },
   "source": [
    "### Pre-processing data"
   ]
  },
  {
   "cell_type": "markdown",
   "metadata": {
    "cell_id": "00011-aa146e4a-a177-4bc3-882d-10109b42b91b",
    "deepnote_cell_height": 74.80000305175781,
    "deepnote_cell_type": "markdown",
    "id": "ySGkoOvGFaK4"
   },
   "source": [
    "Because here we are doing a simple example, we will use a fraction of the complete dataset: just 1000 images, dividing if on 700 as _train_ and 300 images as _test_."
   ]
  },
  {
   "cell_type": "code",
   "execution_count": 5,
   "metadata": {
    "cell_id": "00012-c4c6ad5a-e936-4b7e-b5e6-dff2b7d71e92",
    "deepnote_cell_height": 153,
    "deepnote_cell_type": "code",
    "deepnote_to_be_reexecuted": false,
    "execution_millis": 3,
    "execution_start": 1657476408996,
    "id": "98_nnVm9wzLO",
    "source_hash": "ad2f41ee"
   },
   "outputs": [],
   "source": [
    "num_data = 1000\n",
    "frac_train = 0.7\n",
    "frac_test = 0.3\n",
    "x_train = x_train[0:int(frac_train*num_data)]\n",
    "x_test = x_test[0:int(frac_test*num_data)]"
   ]
  },
  {
   "cell_type": "markdown",
   "metadata": {
    "cell_id": "00013-9331cbb2-0cae-4c5c-8f6a-6c90bc1ba82e",
    "deepnote_cell_height": 52.399993896484375,
    "deepnote_cell_type": "markdown",
    "id": "u40Mvyi8GKwb"
   },
   "source": [
    "We are going to normalize the images between 0 and 1 and to reshape them."
   ]
  },
  {
   "cell_type": "code",
   "execution_count": 6,
   "metadata": {
    "cell_id": "00014-cfd3939f-fbf4-4f99-9668-89d568b02072",
    "deepnote_cell_height": 153,
    "deepnote_cell_type": "code",
    "deepnote_to_be_reexecuted": false,
    "execution_millis": 44,
    "execution_start": 1657476409008,
    "id": "CU7dOwLuRtqZ",
    "source_hash": "8e8b47b5"
   },
   "outputs": [],
   "source": [
    "norm_factor = 255.\n",
    "x_train = x_train.astype('float32')/norm_factor\n",
    "x_test = x_test.astype('float32')/norm_factor\n",
    "x_train = np.reshape(x_train, (len(x_train), dimension, dimension, 1))\n",
    "x_test = np.reshape(x_test, (len(x_test), dimension, dimension, 1))"
   ]
  },
  {
   "cell_type": "markdown",
   "metadata": {
    "cell_id": "00015-cd063e6a-ab20-4058-a0c1-1b4fa8529c2a",
    "deepnote_cell_height": 52.399993896484375,
    "deepnote_cell_type": "markdown",
    "id": "bcqjoWCPHGcf"
   },
   "source": [
    "Here, we need to noisy the images, then, we apply a Gaussian noisy matrix and clip the images between 0 and 1."
   ]
  },
  {
   "cell_type": "code",
   "execution_count": 7,
   "metadata": {
    "cell_id": "00016-60b91398-eb5c-4760-8cd0-7d67f6b469c5",
    "deepnote_cell_height": 171,
    "deepnote_cell_type": "code",
    "deepnote_to_be_reexecuted": false,
    "execution_millis": 45,
    "execution_start": 1657476409052,
    "id": "Mvs20GYpR_2D",
    "source_hash": "c0ed5012"
   },
   "outputs": [],
   "source": [
    "noise_factor = 0.5\n",
    "x_train_noisy = x_train + noise_factor * np.random.normal(loc = 0.0, scale = 1.0, size = x_train.shape) \n",
    "x_test_noisy = x_test + noise_factor * np.random.normal(loc = 0.0, scale = 1.0, size = x_test.shape) \n",
    "\n",
    "x_train_noisy = np.clip(x_train_noisy, 0., 1.)\n",
    "x_test_noisy = np.clip(x_test_noisy, 0., 1.)"
   ]
  },
  {
   "cell_type": "markdown",
   "metadata": {
    "cell_id": "00017-c6c3d7c4-85bb-4fc8-802c-c2404252b649",
    "deepnote_cell_height": 52.399993896484375,
    "deepnote_cell_type": "markdown",
    "id": "zglXXB4WJtPf"
   },
   "source": [
    "Visualizing some noise images."
   ]
  },
  {
   "cell_type": "code",
   "execution_count": 8,
   "metadata": {
    "cell_id": "00018-d28235fc-0d35-4adf-9a20-84924199b8d3",
    "colab": {
     "base_uri": "https://localhost:8080/",
     "height": 539
    },
    "deepnote_cell_height": 813,
    "deepnote_cell_type": "code",
    "deepnote_output_heights": [
     176,
     176,
     176
    ],
    "deepnote_to_be_reexecuted": false,
    "execution_millis": 804,
    "execution_start": 1657476409097,
    "id": "9HO1aCFnSIe6",
    "outputId": "e4f78587-6317-4d33-8f84-27a3a3ef01a1",
    "source_hash": "5906ddc2"
   },
   "outputs": [
    {
     "data": {
      "image/png": "[encoded data removed]",
      "text/plain": [
       "<Figure size 360x360 with 2 Axes>"
      ]
     },
     "metadata": {
      "needs_background": "light"
     },
     "output_type": "display_data"
    },
    {
     "data": {
      "image/png": "[encoded data removed]",
      "text/plain": [
       "<Figure size 360x360 with 2 Axes>"
      ]
     },
     "metadata": {
      "needs_background": "light"
     },
     "output_type": "display_data"
    },
    {
     "data": {
      "image/png": "[encoded data removed]",
      "text/plain": [
       "<Figure size 360x360 with 2 Axes>"
      ]
     },
     "metadata": {
      "needs_background": "light"
     },
     "output_type": "display_data"
    }
   ],
   "source": [
    "n = 3\n",
    "for i in range(n):\n",
    "    fig, axes = plt.subplots(1, 2)\n",
    "    fig.set_size_inches(5, 5)\n",
    "    axes[0].set_title('True image')\n",
    "    im0 = axes[0].imshow(x_test[i].reshape(dimension, dimension), cmap = 'Reds')\n",
    "    axes[1].set_title('Noisy image')\n",
    "    im1 = axes[1].imshow(x_test_noisy[i].reshape(dimension, dimension), cmap = 'Reds')"
   ]
  },
  {
   "cell_type": "markdown",
   "metadata": {
    "cell_id": "00019-a42b4948-4713-482d-b625-97ea0a6076a3",
    "deepnote_cell_height": 70,
    "deepnote_cell_type": "markdown",
    "id": "iRDLL0fAKQgr"
   },
   "source": [
    "## Building the Autoencoder"
   ]
  },
  {
   "cell_type": "markdown",
   "metadata": {
    "cell_id": "00020-6daac04b-5d15-4967-8be8-b1c80d2e5de0",
    "deepnote_cell_height": 52.399993896484375,
    "deepnote_cell_type": "markdown",
    "id": "jtXTZ0X5KfNj"
   },
   "source": [
    "Defining the input images for the **autoencoder**."
   ]
  },
  {
   "cell_type": "code",
   "execution_count": 9,
   "metadata": {
    "cell_id": "00021-3f70ac08-ef11-4466-b0d5-1910b96d7384",
    "deepnote_cell_height": 81,
    "deepnote_cell_type": "code",
    "deepnote_to_be_reexecuted": false,
    "execution_millis": 49,
    "execution_start": 1657476409903,
    "id": "ItQ7wEhJSS_D",
    "source_hash": "f77af66d"
   },
   "outputs": [],
   "source": [
    "input_img = keras.Input(shape = (dimension, dimension, 1))"
   ]
  },
  {
   "cell_type": "markdown",
   "metadata": {
    "cell_id": "00022-a5fa7b34-bdcd-4a45-b839-936af74c4ee0",
    "deepnote_cell_height": 62,
    "deepnote_cell_type": "markdown",
    "id": "vmvHAWQ9Km6V"
   },
   "source": [
    "### Encoder"
   ]
  },
  {
   "cell_type": "code",
   "execution_count": 10,
   "metadata": {
    "cell_id": "00023-d98fc9fc-26d8-4f7b-b77e-ca1c7035a8df",
    "deepnote_cell_height": 135,
    "deepnote_cell_type": "code",
    "deepnote_to_be_reexecuted": false,
    "execution_millis": 27,
    "execution_start": 1657476409985,
    "id": "o5gMXia7SYgJ",
    "source_hash": "7873e30e"
   },
   "outputs": [
    {
     "name": "stdout",
     "output_type": "stream",
     "text": [
      "Metal device set to: Apple M1\n",
      "\n",
      "systemMemory: 8.00 GB\n",
      "maxCacheSize: 2.67 GB\n",
      "\n"
     ]
    },
    {
     "name": "stderr",
     "output_type": "stream",
     "text": [
      "2022-07-18 17:54:19.427339: I tensorflow/core/common_runtime/pluggable_device/pluggable_device_factory.cc:305] Could not identify NUMA node of platform GPU ID 0, defaulting to 0. Your kernel may not have been built with NUMA support.\n",
      "2022-07-18 17:54:19.427808: I tensorflow/core/common_runtime/pluggable_device/pluggable_device_factory.cc:271] Created TensorFlow device (/job:localhost/replica:0/task:0/device:GPU:0 with 0 MB memory) -> physical PluggableDevice (device: 0, name: METAL, pci bus id: <undefined>)\n"
     ]
    }
   ],
   "source": [
    "x = layers.Conv2D(filters = 32, kernel_size = (3, 3), activation = 'relu', padding = 'same')(input_img)\n",
    "x = layers.MaxPooling2D(pool_size = (2, 2), padding = 'same')(x)\n",
    "x = layers.Conv2D(filters = 32, kernel_size = (3, 3), activation = 'relu', padding = 'same')(x)\n",
    "encoded = layers.MaxPooling2D(pool_size = (2, 2), padding = 'same')(x)"
   ]
  },
  {
   "cell_type": "markdown",
   "metadata": {
    "cell_id": "00024-d391d597-b3fe-4e79-bcbd-1313624438ef",
    "deepnote_cell_height": 62,
    "deepnote_cell_type": "markdown",
    "id": "jnN0Pb6TLEdl"
   },
   "source": [
    "### Decoder"
   ]
  },
  {
   "cell_type": "code",
   "execution_count": 11,
   "metadata": {
    "cell_id": "00025-1029f874-bccd-4f43-aa5f-18b40dc6b1fd",
    "deepnote_cell_height": 153,
    "deepnote_cell_type": "code",
    "deepnote_to_be_reexecuted": false,
    "execution_millis": 178,
    "execution_start": 1657476410030,
    "id": "ZgnGidX0SxWJ",
    "source_hash": "682f75b3"
   },
   "outputs": [],
   "source": [
    "x = layers.Conv2D(filters = 32, kernel_size = (3, 3), activation = 'relu', padding = 'same')(encoded)\n",
    "x = layers.UpSampling2D(size = (2, 2))(x)\n",
    "x = layers.Conv2D(filters = 32, kernel_size = (3, 3), activation = 'relu', padding = 'same')(x)\n",
    "x = layers.UpSampling2D(size = (2, 2))(x)\n",
    "decoded = layers.Conv2D(filters = 1, kernel_size = (3, 3), activation = 'sigmoid', padding = 'same')(x)"
   ]
  },
  {
   "cell_type": "markdown",
   "metadata": {
    "cell_id": "00026-dd9872cb-f0e1-4290-9cc0-598c88a3c5a8",
    "deepnote_cell_height": 62,
    "deepnote_cell_type": "markdown",
    "id": "59oEyALlLge_"
   },
   "source": [
    "### Autoencoder"
   ]
  },
  {
   "cell_type": "code",
   "execution_count": 12,
   "metadata": {
    "cell_id": "00027-3a2e89ba-913d-4ad2-90a6-3c0bd9c55e0f",
    "deepnote_cell_height": 81,
    "deepnote_cell_type": "code",
    "deepnote_to_be_reexecuted": false,
    "execution_millis": 1,
    "execution_start": 1657476410208,
    "id": "3CdahDXxS7b4",
    "source_hash": "533a2010"
   },
   "outputs": [],
   "source": [
    "autoencoder = keras.Model(input_img, decoded)"
   ]
  },
  {
   "cell_type": "markdown",
   "metadata": {
    "cell_id": "00028-296e44b5-8136-4731-9c94-5d63831fc062",
    "deepnote_cell_height": 52.399993896484375,
    "deepnote_cell_type": "markdown",
    "id": "8J55gRD_Lkmo"
   },
   "source": [
    "Visualizing the autoencoder."
   ]
  },
  {
   "cell_type": "code",
   "execution_count": 13,
   "metadata": {
    "cell_id": "00029-a713c22a-33e7-42e4-9580-c3ff12c4f266",
    "colab": {
     "base_uri": "https://localhost:8080/",
     "height": 503
    },
    "deepnote_cell_height": 701,
    "deepnote_cell_type": "code",
    "deepnote_to_be_reexecuted": false,
    "execution_millis": 109,
    "execution_start": 1657476410214,
    "id": "yhkLKtIMTDTs",
    "outputId": "c6a9c86f-148e-4221-a97a-ead170fe14e7",
    "source_hash": "66a98f43"
   },
   "outputs": [
    {
     "name": "stdout",
     "output_type": "stream",
     "text": [
      "Model: \"model\"\n",
      "_________________________________________________________________\n",
      " Layer (type)                Output Shape              Param #   \n",
      "=================================================================\n",
      " input_1 (InputLayer)        [(None, 28, 28, 1)]       0         \n",
      "                                                                 \n",
      " conv2d (Conv2D)             (None, 28, 28, 32)        320       \n",
      "                                                                 \n",
      " max_pooling2d (MaxPooling2D  (None, 14, 14, 32)       0         \n",
      " )                                                               \n",
      "                                                                 \n",
      " conv2d_1 (Conv2D)           (None, 14, 14, 32)        9248      \n",
      "                                                                 \n",
      " max_pooling2d_1 (MaxPooling  (None, 7, 7, 32)         0         \n",
      " 2D)                                                             \n",
      "                                                                 \n",
      " conv2d_2 (Conv2D)           (None, 7, 7, 32)          9248      \n",
      "                                                                 \n",
      " up_sampling2d (UpSampling2D  (None, 14, 14, 32)       0         \n",
      " )                                                               \n",
      "                                                                 \n",
      " conv2d_3 (Conv2D)           (None, 14, 14, 32)        9248      \n",
      "                                                                 \n",
      " up_sampling2d_1 (UpSampling  (None, 28, 28, 32)       0         \n",
      " 2D)                                                             \n",
      "                                                                 \n",
      " conv2d_4 (Conv2D)           (None, 28, 28, 1)         289       \n",
      "                                                                 \n",
      "=================================================================\n",
      "Total params: 28,353\n",
      "Trainable params: 28,353\n",
      "Non-trainable params: 0\n",
      "_________________________________________________________________\n"
     ]
    }
   ],
   "source": [
    "autoencoder.summary()"
   ]
  },
  {
   "cell_type": "markdown",
   "metadata": {
    "cell_id": "00030-586aab5a-e074-4692-9b8c-88650080392d",
    "deepnote_cell_height": 62,
    "deepnote_cell_type": "markdown",
    "id": "p53WqKowLriI"
   },
   "source": [
    "### Compilation"
   ]
  },
  {
   "cell_type": "code",
   "execution_count": 14,
   "metadata": {
    "cell_id": "00031-05dc959f-57b7-48a1-8583-3c702207fa46",
    "deepnote_cell_height": 81,
    "deepnote_cell_type": "code",
    "deepnote_to_be_reexecuted": false,
    "execution_start": 1657476410314,
    "id": "NAqXl7JOTcq4",
    "source_hash": "2df10144"
   },
   "outputs": [],
   "source": [
    "autoencoder.compile(optimizer='adam', loss='binary_crossentropy')"
   ]
  },
  {
   "cell_type": "markdown",
   "metadata": {
    "cell_id": "00032-307f4a3b-0c94-449c-855e-7c9d0b9a81c3",
    "deepnote_cell_height": 62,
    "deepnote_cell_type": "markdown",
    "id": "qavUxTB1Lv5V"
   },
   "source": [
    "### Fitting"
   ]
  },
  {
   "cell_type": "code",
   "execution_count": 15,
   "metadata": {
    "cell_id": "00033-232acd54-2632-403c-bf4e-07bff6096729",
    "colab": {
     "base_uri": "https://localhost:8080/",
     "height": 1000
    },
    "deepnote_cell_height": 719,
    "deepnote_cell_type": "code",
    "deepnote_to_be_reexecuted": false,
    "execution_millis": 29222,
    "execution_start": 1657476410314,
    "id": "vuOy8CDfTKa1",
    "outputId": "42bddb1e-d886-416a-9253-0ecf7d2251ad",
    "source_hash": "f0c96c1c"
   },
   "outputs": [
    {
     "name": "stdout",
     "output_type": "stream",
     "text": [
      "Epoch 1/40\n"
     ]
    },
    {
     "name": "stderr",
     "output_type": "stream",
     "text": [
      "2022-07-18 17:54:29.303653: W tensorflow/core/platform/profile_utils/cpu_utils.cc:128] Failed to get CPU frequency: 0 Hz\n",
      "2022-07-18 17:54:29.613093: I tensorflow/core/grappler/optimizers/custom_graph_optimizer_registry.cc:113] Plugin optimizer for device_type GPU is enabled.\n"
     ]
    },
    {
     "name": "stdout",
     "output_type": "stream",
     "text": [
      "7/7 [==============================] - ETA: 0s - loss: 0.5789"
     ]
    },
    {
     "name": "stderr",
     "output_type": "stream",
     "text": [
      "2022-07-18 17:54:31.354419: I tensorflow/core/grappler/optimizers/custom_graph_optimizer_registry.cc:113] Plugin optimizer for device_type GPU is enabled.\n"
     ]
    },
    {
     "name": "stdout",
     "output_type": "stream",
     "text": [
      "7/7 [==============================] - 3s 162ms/step - loss: 0.5789 - val_loss: 0.5098\n",
      "Epoch 2/40\n",
      "7/7 [==============================] - 0s 48ms/step - loss: 0.5024 - val_loss: 0.4718\n",
      "Epoch 3/40\n",
      "7/7 [==============================] - 0s 47ms/step - loss: 0.4635 - val_loss: 0.4389\n",
      "Epoch 4/40\n",
      "7/7 [==============================] - 0s 47ms/step - loss: 0.4278 - val_loss: 0.4009\n",
      "Epoch 5/40\n",
      "7/7 [==============================] - 0s 46ms/step - loss: 0.3811 - val_loss: 0.3477\n",
      "Epoch 6/40\n",
      "7/7 [==============================] - 0s 47ms/step - loss: 0.3198 - val_loss: 0.2839\n",
      "Epoch 7/40\n",
      "7/7 [==============================] - 0s 48ms/step - loss: 0.2605 - val_loss: 0.2401\n",
      "Epoch 8/40\n",
      "7/7 [==============================] - 0s 55ms/step - loss: 0.2287 - val_loss: 0.2226\n",
      "Epoch 9/40\n",
      "7/7 [==============================] - 0s 47ms/step - loss: 0.2161 - val_loss: 0.2141\n",
      "Epoch 10/40\n",
      "7/7 [==============================] - 0s 47ms/step - loss: 0.2079 - val_loss: 0.2069\n",
      "Epoch 11/40\n",
      "7/7 [==============================] - 0s 47ms/step - loss: 0.1997 - val_loss: 0.1984\n",
      "Epoch 12/40\n",
      "7/7 [==============================] - 0s 48ms/step - loss: 0.1908 - val_loss: 0.1901\n",
      "Epoch 13/40\n",
      "7/7 [==============================] - 0s 52ms/step - loss: 0.1815 - val_loss: 0.1831\n",
      "Epoch 14/40\n",
      "7/7 [==============================] - 0s 47ms/step - loss: 0.1736 - val_loss: 0.1794\n",
      "Epoch 15/40\n",
      "7/7 [==============================] - 0s 49ms/step - loss: 0.1699 - val_loss: 0.1744\n",
      "Epoch 16/40\n",
      "7/7 [==============================] - 0s 47ms/step - loss: 0.1641 - val_loss: 0.1699\n",
      "Epoch 17/40\n",
      "7/7 [==============================] - 0s 48ms/step - loss: 0.1601 - val_loss: 0.1655\n",
      "Epoch 18/40\n",
      "7/7 [==============================] - 0s 47ms/step - loss: 0.1561 - val_loss: 0.1600\n",
      "Epoch 19/40\n",
      "7/7 [==============================] - 0s 54ms/step - loss: 0.1537 - val_loss: 0.1586\n",
      "Epoch 20/40\n",
      "7/7 [==============================] - 0s 47ms/step - loss: 0.1492 - val_loss: 0.1533\n",
      "Epoch 21/40\n",
      "7/7 [==============================] - 0s 47ms/step - loss: 0.1463 - val_loss: 0.1507\n",
      "Epoch 22/40\n",
      "7/7 [==============================] - 0s 48ms/step - loss: 0.1437 - val_loss: 0.1479\n",
      "Epoch 23/40\n",
      "7/7 [==============================] - 0s 50ms/step - loss: 0.1413 - val_loss: 0.1457\n",
      "Epoch 24/40\n",
      "7/7 [==============================] - 0s 47ms/step - loss: 0.1395 - val_loss: 0.1433\n",
      "Epoch 25/40\n",
      "7/7 [==============================] - 0s 47ms/step - loss: 0.1367 - val_loss: 0.1422\n",
      "Epoch 26/40\n",
      "7/7 [==============================] - 0s 47ms/step - loss: 0.1363 - val_loss: 0.1416\n",
      "Epoch 27/40\n",
      "7/7 [==============================] - 0s 47ms/step - loss: 0.1328 - val_loss: 0.1400\n",
      "Epoch 28/40\n",
      "7/7 [==============================] - 0s 49ms/step - loss: 0.1324 - val_loss: 0.1398\n",
      "Epoch 29/40\n",
      "7/7 [==============================] - 0s 51ms/step - loss: 0.1328 - val_loss: 0.1394\n",
      "Epoch 30/40\n",
      "7/7 [==============================] - 0s 47ms/step - loss: 0.1303 - val_loss: 0.1360\n",
      "Epoch 31/40\n",
      "7/7 [==============================] - 0s 47ms/step - loss: 0.1273 - val_loss: 0.1341\n",
      "Epoch 32/40\n",
      "7/7 [==============================] - 0s 47ms/step - loss: 0.1262 - val_loss: 0.1329\n",
      "Epoch 33/40\n",
      "7/7 [==============================] - 0s 47ms/step - loss: 0.1251 - val_loss: 0.1341\n",
      "Epoch 34/40\n",
      "7/7 [==============================] - 0s 47ms/step - loss: 0.1265 - val_loss: 0.1343\n",
      "Epoch 35/40\n",
      "7/7 [==============================] - 0s 47ms/step - loss: 0.1237 - val_loss: 0.1313\n",
      "Epoch 36/40\n",
      "7/7 [==============================] - 0s 48ms/step - loss: 0.1223 - val_loss: 0.1307\n",
      "Epoch 37/40\n",
      "7/7 [==============================] - 0s 47ms/step - loss: 0.1224 - val_loss: 0.1304\n",
      "Epoch 38/40\n",
      "7/7 [==============================] - 0s 47ms/step - loss: 0.1211 - val_loss: 0.1322\n",
      "Epoch 39/40\n",
      "7/7 [==============================] - 0s 47ms/step - loss: 0.1215 - val_loss: 0.1292\n",
      "Epoch 40/40\n",
      "7/7 [==============================] - 0s 47ms/step - loss: 0.1199 - val_loss: 0.1284\n"
     ]
    }
   ],
   "source": [
    "validation_split = 0.8\n",
    "history = autoencoder.fit(x_train_noisy, x_train, epochs = 40, batch_size = 20, shuffle = True, validation_split = validation_split)"
   ]
  },
  {
   "cell_type": "markdown",
   "metadata": {
    "cell_id": "00034-811d5144-756c-4449-9fe7-6fd0b582e00c",
    "deepnote_cell_height": 62,
    "deepnote_cell_type": "markdown",
    "id": "w9cwHmo0L9kL"
   },
   "source": [
    "### Tracking the history of the training stage"
   ]
  },
  {
   "cell_type": "code",
   "execution_count": 16,
   "metadata": {
    "cell_id": "00035-2965ef48-72f6-4227-b644-731c4d92d3e3",
    "colab": {
     "base_uri": "https://localhost:8080/",
     "height": 34
    },
    "deepnote_cell_height": 118,
    "deepnote_cell_type": "code",
    "deepnote_output_heights": [
     21
    ],
    "deepnote_to_be_reexecuted": false,
    "execution_millis": 6,
    "execution_start": 1657476439542,
    "id": "2jHDeAlBwW21",
    "outputId": "970a927e-31ba-47aa-f36b-9f480d4a7480",
    "source_hash": "56e797ad"
   },
   "outputs": [
    {
     "data": {
      "text/plain": [
       "dict_keys(['loss', 'val_loss'])"
      ]
     },
     "execution_count": 16,
     "metadata": {},
     "output_type": "execute_result"
    }
   ],
   "source": [
    "history.history.keys()"
   ]
  },
  {
   "cell_type": "code",
   "execution_count": 17,
   "metadata": {
    "cell_id": "00036-9869ba35-436a-4324-9133-ad79561b86bb",
    "deepnote_cell_height": 117,
    "deepnote_cell_type": "code",
    "deepnote_to_be_reexecuted": false,
    "execution_millis": 4,
    "execution_start": 1657476439554,
    "id": "xUjfYnorxFDi",
    "source_hash": "89aeaa31"
   },
   "outputs": [],
   "source": [
    "train_loss = history.history['loss']\n",
    "train_val_loss = history.history['val_loss']\n",
    "epochs = range(1, len(train_loss) + 1)"
   ]
  },
  {
   "cell_type": "markdown",
   "metadata": {
    "cell_id": "00037-4102031e-c702-4f1a-9725-81ba9595e0db",
    "deepnote_cell_height": 52.399993896484375,
    "deepnote_cell_type": "markdown",
    "id": "UfLzzWZSMET9"
   },
   "source": [
    "Visualizing the history of the training."
   ]
  },
  {
   "cell_type": "code",
   "execution_count": 18,
   "metadata": {
    "cell_id": "00038-11adf55e-2366-4089-859e-874586672c96",
    "colab": {
     "base_uri": "https://localhost:8080/",
     "height": 402
    },
    "deepnote_cell_height": 557,
    "deepnote_cell_type": "code",
    "deepnote_output_heights": [
     370
    ],
    "deepnote_to_be_reexecuted": false,
    "execution_millis": 303,
    "execution_start": 1657476439561,
    "id": "dfltbv9BxK1f",
    "outputId": "daee689a-0316-420a-c1a9-3087d258a302",
    "source_hash": "818eda90"
   },
   "outputs": [
    {
     "data": {
      "image/png": "[encoded data removed]",
      "text/plain": [
       "<Figure size 600x400 with 1 Axes>"
      ]
     },
     "metadata": {
      "needs_background": "light"
     },
     "output_type": "display_data"
    }
   ],
   "source": [
    "plt.figure(dpi = 100)\n",
    "plt.plot(epochs, train_loss, label = 'Loss')\n",
    "plt.plot(epochs, train_val_loss, 'o', label = 'Val loss')\n",
    "plt.title('Training and validation metrics')\n",
    "plt.legend()\n",
    "plt.savefig('history.png')"
   ]
  },
  {
   "cell_type": "markdown",
   "metadata": {
    "cell_id": "00039-1346684e-9503-4f0f-88ed-0d112ddf0271",
    "deepnote_cell_height": 62,
    "deepnote_cell_type": "markdown",
    "id": "cWNTSsB3MP0u"
   },
   "source": [
    "### Prediction"
   ]
  },
  {
   "cell_type": "code",
   "execution_count": 19,
   "metadata": {
    "cell_id": "00040-dae6897e-99f5-4d9e-82f1-0dcb516da148",
    "deepnote_cell_height": 111.69999694824219,
    "deepnote_cell_type": "code",
    "deepnote_to_be_reexecuted": false,
    "execution_millis": 282,
    "execution_start": 1657476439868,
    "id": "_uKB2CCgxQb9",
    "source_hash": "6946bdbe"
   },
   "outputs": [
    {
     "name": "stdout",
     "output_type": "stream",
     "text": [
      " 1/10 [==>...........................] - ETA: 1s"
     ]
    },
    {
     "name": "stderr",
     "output_type": "stream",
     "text": [
      "2022-07-12 19:28:33.876163: I tensorflow/core/grappler/optimizers/custom_graph_optimizer_registry.cc:113] Plugin optimizer for device_type GPU is enabled.\n"
     ]
    },
    {
     "name": "stdout",
     "output_type": "stream",
     "text": [
      "10/10 [==============================] - 0s 19ms/step\n"
     ]
    }
   ],
   "source": [
    "all_denoised_images = autoencoder.predict(x_test_noisy)"
   ]
  },
  {
   "cell_type": "markdown",
   "metadata": {
    "cell_id": "00041-8298d6cc-b374-4c6a-89d4-2f48e23b224d",
    "deepnote_cell_height": 62,
    "deepnote_cell_type": "markdown",
    "id": "fcNSKR8BMTx8"
   },
   "source": [
    "### Evaluation"
   ]
  },
  {
   "cell_type": "code",
   "execution_count": 20,
   "metadata": {
    "cell_id": "00042-82815fd3-9ef3-40d2-9692-f1aaa0c8ee6b",
    "colab": {
     "base_uri": "https://localhost:8080/",
     "height": 52
    },
    "deepnote_cell_height": 181.6999969482422,
    "deepnote_cell_type": "code",
    "deepnote_output_heights": [
     null,
     21
    ],
    "deepnote_to_be_reexecuted": false,
    "execution_millis": 244,
    "execution_start": 1657476440149,
    "id": "oW_etasixi3m",
    "outputId": "0b9e468e-c5ca-4ade-b475-a76f7fdc0f25",
    "source_hash": "6b28272"
   },
   "outputs": [
    {
     "name": "stdout",
     "output_type": "stream",
     "text": [
      "15/15 [==============================] - 0s 6ms/step - loss: 0.1287\n"
     ]
    },
    {
     "data": {
      "text/plain": [
       "0.12868081033229828"
      ]
     },
     "execution_count": 20,
     "metadata": {},
     "output_type": "execute_result"
    }
   ],
   "source": [
    "test_loss  = autoencoder.evaluate(x_test_noisy, x_test, batch_size = 20)\n",
    "test_loss"
   ]
  },
  {
   "cell_type": "markdown",
   "metadata": {
    "cell_id": "00043-5f8d7efd-42b5-4510-9bc1-ed0056b6ac9b",
    "deepnote_cell_height": 120.39999389648438,
    "deepnote_cell_type": "markdown",
    "id": "xbB-gxeUMnJx"
   },
   "source": [
    "# Visual results\n",
    "\n",
    "Here, we can compare our visual results looking side by side the noisy, targets and denoised  images."
   ]
  },
  {
   "cell_type": "code",
   "execution_count": 21,
   "metadata": {
    "cell_id": "00044-16b0e331-c596-4167-a1d3-8fe429d4fc0d",
    "colab": {
     "base_uri": "https://localhost:8080/",
     "height": 503
    },
    "deepnote_cell_height": 813,
    "deepnote_cell_type": "code",
    "deepnote_output_heights": [
     158,
     158,
     158
    ],
    "deepnote_to_be_reexecuted": false,
    "execution_millis": 1173,
    "execution_start": 1657476440393,
    "id": "NEwT4ZpoyB0F",
    "outputId": "79ac8e30-d230-4928-f56f-f3a8e535dd94",
    "source_hash": "a6e883fc"
   },
   "outputs": [
    {
     "data": {
      "image/png": "[encoded data removed]",
      "text/plain": [
       "<Figure size 576x144 with 3 Axes>"
      ]
     },
     "metadata": {
      "needs_background": "light"
     },
     "output_type": "display_data"
    },
    {
     "data": {
      "image/png": "[encoded data removed]",
      "text/plain": [
       "<Figure size 576x144 with 3 Axes>"
      ]
     },
     "metadata": {
      "needs_background": "light"
     },
     "output_type": "display_data"
    },
    {
     "data": {
      "image/png": "[encoded data removed]",
      "text/plain": [
       "<Figure size 576x144 with 3 Axes>"
      ]
     },
     "metadata": {
      "needs_background": "light"
     },
     "output_type": "display_data"
    }
   ],
   "source": [
    "n = 3\n",
    "for i in range(n):\n",
    "    fig, axes = plt.subplots(1, 3)\n",
    "    fig.set_size_inches(8, 2)\n",
    "    axes[0].set_title('Noisy image')\n",
    "    im0 = axes[0].imshow(x_test_noisy[i].reshape(dimension, dimension), cmap = 'Reds')\n",
    "    axes[1].set_title('Target image')\n",
    "    im1 = axes[1].imshow(x_test[i].reshape(dimension, dimension), cmap = 'Reds')\n",
    "    axes[2].set_title('Denoised image')\n",
    "    im2 = axes[2].imshow(all_denoised_images[i].reshape(dimension, dimension), cmap = 'Reds')\n",
    "    plt.savefig(f'comparison-{i}.png')"
   ]
  },
  {
   "cell_type": "code",
   "execution_count": null,
   "metadata": {
    "cell_id": "00045-58677df6-9500-45df-8bb6-fe2e67b7b59d",
    "deepnote_cell_height": 81,
    "deepnote_cell_type": "code",
    "deepnote_to_be_reexecuted": false,
    "execution_start": 1657476441567,
    "id": "r4usMdsRyesT",
    "source_hash": "b623e53d"
   },
   "outputs": [],
   "source": []
  }
 ],
 "metadata": {
  "colab": {
   "collapsed_sections": [],
   "name": "image_denoising.ipynb",
   "provenance": []
  },
  "deepnote": {},
  "deepnote_execution_queue": [],
  "deepnote_notebook_id": "70cc8883-e301-46aa-9a98-3b8613dd06f9",
  "kernelspec": {
   "display_name": "Python 3.8.13 ('dino_ai')",
   "language": "python",
   "name": "python3"
  },
  "language_info": {
   "codemirror_mode": {
    "name": "ipython",
    "version": 3
   },
   "file_extension": ".py",
   "mimetype": "text/x-python",
   "name": "python",
   "nbconvert_exporter": "python",
   "pygments_lexer": "ipython3",
   "version": "3.8.13"
  },
  "vscode": {
   "interpreter": {
    "hash": "bb691f05a273382529f505bd747f6c89323682ed6e2b4daae408964d57061e35"
   }
  }
 },
 "nbformat": 4,
 "nbformat_minor": 4
}
